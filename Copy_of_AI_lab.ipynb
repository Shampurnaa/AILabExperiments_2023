{
  "nbformat": 4,
  "nbformat_minor": 0,
  "metadata": {
    "colab": {
      "provenance": []
    },
    "kernelspec": {
      "name": "python3",
      "display_name": "Python 3"
    },
    "language_info": {
      "name": "python"
    }
  },
  "cells": [
    {
      "cell_type": "markdown",
      "source": [
        "EXPERIMENT 1: IMPLEMENTATION OF BANANA CAMEL PROBLEM\n",
        "AIM: A PERSON HAS 3000 BANANA AND A CAMEL. THE PERSON WANTS TO TRANSPORT THE MAXIMUM NUMBER OF BANANAS TO A DESTINATION WHICH IS 1000 KMS AWAT, USING ONLY THE CAMEL AS A MODE OF TRANSPORTATION, THE CAMEL CANNOT CARRY MORE THAN 1000 BANANA EVERY KM IT TRAVELS, WHAT IS THE MINIMUM NUMBER OF BANANAS THAT CAN BE TRASFERED TO THE DESTINATION USING ONLY CAMEL."
      ],
      "metadata": {
        "id": "U7BmD9DM46XP"
      }
    },
    {
      "cell_type": "code",
      "source": [
        "total_banana = int(input(\"No. of bananas at the start: \"))\n",
        "distance = int(input(\"Distance to be covered: \"))\n",
        "load_capacity = int(input(\"Maximum banana camel can carry at a time: \"))\n",
        "\n",
        "banana_lost = 0\n",
        "start = total_banana\n",
        "for i in range(distance):\n",
        "  while start>0:\n",
        "    start = start-load_capacity\n",
        "    if start == 1:\n",
        "      banana_lost = banana_lost - 1\n",
        "    banana_lost = banana_lost + 2\n",
        "  banana_lost = banana_lost - 1\n",
        "  start=total_banana - banana_lost\n",
        "  if start==0:\n",
        "    break\n",
        "print(\"Total bananas delivered:\",start)\n"
      ],
      "metadata": {
        "colab": {
          "base_uri": "https://localhost:8080/"
        },
        "id": "jXSgC6dr6BV7",
        "outputId": "8e21de34-6ac8-475a-e495-b04487e4f5f2"
      },
      "execution_count": null,
      "outputs": [
        {
          "output_type": "stream",
          "name": "stdout",
          "text": [
            "No. of bananas at the start: 3000\n",
            "Distance to be covered: 1000\n",
            "Maximum banana camel can carry at a time: 1000\n",
            "Total bananas delivered: 533\n"
          ]
        }
      ]
    },
    {
      "cell_type": "markdown",
      "source": [
        "EXPERIMENT:2 GRAPH COLOURING"
      ],
      "metadata": {
        "id": "B1LHL60WED6b"
      }
    },
    {
      "cell_type": "code",
      "source": [
        "def colour_vertices(graph):\n",
        "  vertices = sorted((list(graph.keys())))\n",
        "  colour_graph = {}\n",
        "  for vertex in vertices:\n",
        "    unused_colours = len(vertices) * [True]\n",
        "    for neighbor in graph[vertex]:\n",
        "      if neighbor in colour_graph:\n",
        "        colour = colour_graph[neighbor]\n",
        "        unused_colours[colour] = False\n",
        "    for colour, unused in enumerate(unused_colours):\n",
        "      if unused:\n",
        "        colour_graph[vertex] = colour\n",
        "        break\n",
        "  return colour_graph\n",
        "graph = { \"a\" : [\"c\", \"d\", \"b\"],\n",
        "          \"b\" : [\"c\", \"e\", \"a\"],\n",
        "          \"c\" : [\"a\", \"b\"],\n",
        "          \"d\" : [\"a\",\"e\"],\n",
        "          \"e\" : [\"d\", \"b\"],\n",
        "         }\n",
        "result = (colour_vertices(graph))\n",
        "print(result)"
      ],
      "metadata": {
        "colab": {
          "base_uri": "https://localhost:8080/"
        },
        "id": "RgoYFHdOENCG",
        "outputId": "8fd03801-8bee-4562-ebeb-3c3d570e7ed7"
      },
      "execution_count": null,
      "outputs": [
        {
          "output_type": "stream",
          "name": "stdout",
          "text": [
            "{'a': 0, 'b': 1, 'c': 2, 'd': 1, 'e': 0}\n"
          ]
        }
      ]
    },
    {
      "cell_type": "markdown",
      "source": [
        "EXPERIMENT NO: 3 CONSTRAINT SATISFACTION SEARCH PROBLEM"
      ],
      "metadata": {
        "id": "CWnf0iG1Fpy4"
      }
    },
    {
      "cell_type": "code",
      "source": [
        "import itertools\n",
        "import re\n",
        "\n",
        "def solve(formula):\n",
        "    \"\"\"Given a formula like 'NUM + BER = PLAY', fill in digits to solve it.\n",
        "    Generate all valid digit-filled-in strings.\"\"\"\n",
        "    return filter(valid, letter_replacements(formula))\n",
        "\n",
        "def letter_replacements(formula):\n",
        "    \"\"\"All possible replacements of letters with digits in formula.\"\"\"\n",
        "    formula = formula.replace(' = ', ' == ') # Allow = or ==\n",
        "    letters = cat(set(re.findall('[A-Z]', formula)))\n",
        "    for digits in itertools.permutations('1234567890', len(letters)):\n",
        "        yield formula.translate(str.maketrans(letters, cat(digits)))\n",
        "\n",
        "def valid(exp):\n",
        "    \"\"\"Expression is valid iff it has no leading zero, and evaluates to true.\"\"\"\n",
        "    try:\n",
        "        return not leading_zero(exp) and eval(exp) is True\n",
        "    except ArithmeticError:\n",
        "        return False\n",
        "\n",
        "cat = ''.join # Function to concatenate strings\n",
        "\n",
        "leading_zero = re.compile(r'\\b0[0-9]').search # Function to check for illegal number\n",
        "next(solve('SEND + MORE = MONEY'))"
      ],
      "metadata": {
        "colab": {
          "base_uri": "https://localhost:8080/",
          "height": 36
        },
        "id": "vHqcmDVHF1Lc",
        "outputId": "aaaebda8-afc0-4eeb-963d-5b30777d534e"
      },
      "execution_count": null,
      "outputs": [
        {
          "output_type": "execute_result",
          "data": {
            "text/plain": [
              "'9567 + 1085 == 10652'"
            ],
            "application/vnd.google.colaboratory.intrinsic+json": {
              "type": "string"
            }
          },
          "metadata": {},
          "execution_count": 6
        }
      ]
    },
    {
      "cell_type": "markdown",
      "source": [
        "EXPERIMENT NO: 4 BFS/DFS"
      ],
      "metadata": {
        "id": "Vu4BGAFaGzZF"
      }
    },
    {
      "cell_type": "code",
      "source": [
        "graph = {\n",
        "  'A' : ['B','C'],\n",
        "  'B' : ['D'],\n",
        "  'C' : ['F'],\n",
        "  'D' : ['E', 'F'],\n",
        "  'E' : [],\n",
        "  'F' : ['A']\n",
        "}\n",
        "\n",
        "visited = [] # Keep track of visited nodes.\n",
        "queue = []   # Queue\n",
        "\n",
        "def bfs(visited, graph, node):\n",
        "    visited.append(node)\n",
        "    queue.append(node)\n",
        "    while queue:\n",
        "        s = queue.pop(0)\n",
        "        print (s, end = \" \")\n",
        "        for neighbour in graph[s]:\n",
        "              if neighbour not in visited:\n",
        "                    visited.append(neighbour)\n",
        "                    queue.append(neighbour)\n",
        "\n",
        "# Driver Code\n",
        "bfs(visited, graph, 'A')"
      ],
      "metadata": {
        "colab": {
          "base_uri": "https://localhost:8080/"
        },
        "id": "ZqpRUkGYG8KZ",
        "outputId": "24063035-dc91-4e34-bb14-6daa10ec6ea1"
      },
      "execution_count": null,
      "outputs": [
        {
          "output_type": "stream",
          "name": "stdout",
          "text": [
            "A B C D F E "
          ]
        }
      ]
    },
    {
      "cell_type": "code",
      "source": [
        "graph = {\n",
        "  'A' : ['B','C'],\n",
        "  'B' : ['D'],\n",
        "  'C' : ['F'],\n",
        "  'D' : ['E', 'F'],\n",
        "  'E' : [],\n",
        "  'F' : ['A']\n",
        "}\n",
        "visited = set() # Keep track of visited nodes.\n",
        "\n",
        "def dfs(visited, graph, node):\n",
        "    if node not in visited:\n",
        "        print (node)\n",
        "        visited.add(node)\n",
        "        for neighbour in graph[node]:\n",
        "            dfs(visited, graph, neighbour)\n",
        "\n",
        "dfs(visited, graph, 'A')"
      ],
      "metadata": {
        "colab": {
          "base_uri": "https://localhost:8080/"
        },
        "id": "o5v9LOBcHQR8",
        "outputId": "17838713-7385-4411-f7f3-d37f85a8381c"
      },
      "execution_count": null,
      "outputs": [
        {
          "output_type": "stream",
          "name": "stdout",
          "text": [
            "A\n",
            "B\n",
            "D\n",
            "E\n",
            "F\n",
            "C\n"
          ]
        }
      ]
    },
    {
      "cell_type": "code",
      "source": [
        "graph = {\n",
        "  'A' : ['B','C'],\n",
        "  'B' : ['D', 'E'],\n",
        "  'C' : ['F'],\n",
        "  'D' : [],\n",
        "  'E' : ['F'],\n",
        "  'F' : []\n",
        "}\n",
        "\n",
        "visited_bfs = []\n",
        "queue = []\n",
        "\n",
        "def bfs(visited_bfs, graph, node):\n",
        "  visited_bfs.append(node)\n",
        "  queue.append(node)\n",
        "\n",
        "  while queue:\n",
        "    s = queue.pop(0)\n",
        "    print (s, end = \" \")\n",
        "\n",
        "    for neighbour in graph[s]:\n",
        "      if neighbour not in visited_bfs:\n",
        "        visited_bfs.append(neighbour)\n",
        "        queue.append(neighbour)\n",
        "\n",
        "visited = set()\n",
        "\n",
        "def dfs(visited, graph, node):\n",
        "    if node not in visited:\n",
        "        print (node, end=\" \")\n",
        "        visited.add(node)\n",
        "        for neighbour in graph[node]:\n",
        "            dfs(visited, graph, neighbour)\n",
        "\n",
        "print(\"BFS:\" , end =\" \")\n",
        "bfs(visited_bfs, graph, 'A')\n",
        "print('\\n')\n",
        "print(\"DFS:\" , end =\" \")\n",
        "dfs(visited, graph, 'A')"
      ],
      "metadata": {
        "colab": {
          "base_uri": "https://localhost:8080/"
        },
        "id": "DnQBDFZTHbJR",
        "outputId": "3ca8c417-48ac-464b-c7c9-c475b2a45b92"
      },
      "execution_count": null,
      "outputs": [
        {
          "output_type": "stream",
          "name": "stdout",
          "text": [
            "BFS: A B C D E F \n",
            "\n",
            "DFS: A B D E F C "
          ]
        }
      ]
    },
    {
      "cell_type": "markdown",
      "source": [
        "EXPERIMENT NO: 5 BEST FIRST SEARCH AND A*"
      ],
      "metadata": {
        "id": "NgM5cgfkHfjg"
      }
    },
    {
      "cell_type": "code",
      "source": [
        "from queue import PriorityQueue\n",
        "import matplotlib.pyplot as plt\n",
        "import networkx as nx\n",
        "\n",
        "# for implementing BFS | returns path having lowest cost\n",
        "def best_first_search(source, target, n):\n",
        "    visited = [0] * n\n",
        "    visited[source] = True\n",
        "    pq = PriorityQueue()\n",
        "    pq.put((0, source))\n",
        "    while pq.empty() == False:\n",
        "        u = pq.get()[1]\n",
        "        print(u, end=\" \") # the path having lowest cost\n",
        "        if u == target:\n",
        "            break\n",
        "\n",
        "        for v, c in graph[u]:\n",
        "            if visited[v] == False:\n",
        "                visited[v] = True\n",
        "                pq.put((c, v))\n",
        "    print()\n",
        "\n",
        "# for adding edges to graph\n",
        "def addedge(x, y, cost):\n",
        "    graph[x].append((y, cost))\n",
        "    graph[y].append((x, cost))\n",
        "\n",
        "G = nx.Graph()\n",
        "v = int(input(\"Enter the number of nodes: \"))\n",
        "graph = [[] for i in range(v)] # undirected Graph\n",
        "e = int(input(\"Enter the number of edges: \"))\n",
        "print(\"Enter the edges along with their weights:\")\n",
        "for i in range(e):\n",
        "    x, y, z = list(map(int, input().split()))\n",
        "    addedge(x, y, z)\n",
        "    G.add_edge(x, y, weight = z)\n",
        "\n",
        "source = int(input(\"Enter the Source Node: \"))\n",
        "target = int(input(\"Enter the Target/Destination Node: \"))\n",
        "print(\"\\nPath: \", end = \"\")\n",
        "best_first_search(source, target, v)\n"
      ],
      "metadata": {
        "colab": {
          "base_uri": "https://localhost:8080/"
        },
        "id": "PS8pKTovHn0O",
        "outputId": "80343d32-4e1a-4e26-8d7b-8b31d430c81c"
      },
      "execution_count": null,
      "outputs": [
        {
          "output_type": "stream",
          "name": "stdout",
          "text": [
            "Enter the number of nodes: 14\n",
            "Enter the number of edges: 13\n",
            "Enter the edges along with their weights:\n",
            "0 1 3\n",
            "0  2  6\n",
            "0 3 5\n",
            "1 4 9\n",
            "1 5 8\n",
            "2 6 12\n",
            "2 7 14\n",
            "3 8 7\n",
            "8 9 5\n",
            "8 10 6\n",
            "9 11 1\n",
            "9 12 10\n",
            "9 13 2\n",
            "Enter the Source Node: 0\n",
            "Enter the Target/Destination Node: 9\n",
            "\n",
            "Path: 0 1 3 2 8 9 \n"
          ]
        }
      ]
    },
    {
      "cell_type": "code",
      "source": [
        "print(\"Graph:\\n\")\n",
        "pos = nx.spring_layout(G, seed=7)  # positions for all nodes - seed for reproducibility\n",
        "\n",
        "# nodes\n",
        "nx.draw_networkx_nodes(G, pos, node_size=350)\n",
        "\n",
        "# edges\n",
        "nx.draw_networkx_edges(G, pos)\n",
        "nx.draw_networkx_edges(G, pos, alpha=0.5, edge_color=\"r\")\n",
        "\n",
        "# labels\n",
        "nx.draw_networkx_labels(G, pos, font_size=20)\n",
        "\n",
        "ax = plt.gca()\n",
        "ax.margins(0.08)\n",
        "plt.axis(\"off\")\n",
        "plt.tight_layout()\n",
        "plt.show()"
      ],
      "metadata": {
        "colab": {
          "base_uri": "https://localhost:8080/",
          "height": 522
        },
        "id": "IJtHuKAWH87H",
        "outputId": "2553aeae-9435-4963-b27b-b11d96812338"
      },
      "execution_count": null,
      "outputs": [
        {
          "output_type": "stream",
          "name": "stdout",
          "text": [
            "Graph:\n",
            "\n"
          ]
        },
        {
          "output_type": "display_data",
          "data": {
            "text/plain": [
              "<Figure size 640x480 with 1 Axes>"
            ],
            "image/png": "[encoded data removed]"
          },
          "metadata": {}
        }
      ]
    },
    {
      "cell_type": "code",
      "source": [
        "class Graph:\n",
        "\n",
        "    # init class\n",
        "    def __init__(self, graph_dict=None, directed=True):\n",
        "        self.graph_dict = graph_dict or {}\n",
        "        self.directed = directed\n",
        "        if not directed:\n",
        "            self.make_undirected()\n",
        "\n",
        "    # create undirected graph by adding symmetric edges\n",
        "    def make_undirected(self):\n",
        "        for a in list(self.graph_dict.keys()):\n",
        "            for (b, dist) in self.graph_dict[a].items():\n",
        "                self.graph_dict.setdefault(b, {})[a] = dist\n",
        "\n",
        "    # add link from A and B of given distance, and also add the inverse link if the graph is undirected\n",
        "    def connect(self, A, B, distance=1):\n",
        "        self.graph_dict.setdefault(A, {})[B] = distance\n",
        "        if not self.directed:\n",
        "            self.graph_dict.setdefault(B, {})[A] = distance\n",
        "\n",
        "    # get neighbors or a neighbor\n",
        "    def get(self, a, b=None):\n",
        "        links = self.graph_dict.setdefault(a, {})\n",
        "        if b is None:\n",
        "            return links\n",
        "        else:\n",
        "            return links.get(b)\n",
        "\n",
        "    # return list of nodes in the graph\n",
        "    def nodes(self):\n",
        "        s1 = set([k for k in self.graph_dict.keys()])\n",
        "        s2 = set([k2 for v in self.graph_dict.values() for k2, v2 in v.items()])\n",
        "        nodes = s1.union(s2)\n",
        "        return list(nodes)\n",
        "\n",
        "# node class\n",
        "class Node:\n",
        "\n",
        "    # init class\n",
        "    def __init__(self, name:str, parent:str):\n",
        "        self.name = name\n",
        "        self.parent = parent\n",
        "        self.g = 0 # distance to start node\n",
        "        self.h = 0 # distance to goal node\n",
        "        self.f = 0 # total cost\n",
        "\n",
        "    # compare nodes\n",
        "    def __eq__(self, other):\n",
        "        return self.name == other.name\n",
        "\n",
        "    # sort nodes\n",
        "    def __lt__(self, other):\n",
        "         return self.f < other.f\n",
        "\n",
        "    # print node\n",
        "    def __repr__(self):\n",
        "        return ('({0},{1})'.format(self.name, self.f))\n",
        "\n",
        "# A* search\n",
        "def astar_search(graph, heuristics, start, end):\n",
        "\n",
        "    # lists for open nodes and closed nodes\n",
        "    open = []\n",
        "    closed = []\n",
        "\n",
        "    # a start node and an goal node\n",
        "    start_node = Node(start, None)\n",
        "    goal_node = Node(end, None)\n",
        "\n",
        "    # add start node\n",
        "    open.append(start_node)\n",
        "\n",
        "    # loop until the open list is empty\n",
        "    while len(open) > 0:\n",
        "\n",
        "\n",
        "        open.sort()                                 # sort open list to get the node with the lowest cost first\n",
        "        current_node = open.pop(0)                  # get node with the lowest cost\n",
        "        closed.append(current_node)                 # add current node to the closed list\n",
        "\n",
        "        # check if we have reached the goal, return the path\n",
        "        if current_node == goal_node:\n",
        "            path = []\n",
        "            while current_node != start_node:\n",
        "                path.append(current_node.name + ': ' + str(current_node.g))\n",
        "                current_node = current_node.parent\n",
        "            path.append(start_node.name + ': ' + str(start_node.g))\n",
        "            return path[::-1]\n",
        "\n",
        "\n",
        "        neighbors = graph.get(current_node.name)    # get neighbours\n",
        "\n",
        "        # loop neighbors\n",
        "        for key, value in neighbors.items():\n",
        "            neighbor = Node(key, current_node)      # create neighbor node\n",
        "            if(neighbor in closed):                 # check if the neighbor is in the closed list\n",
        "                continue\n",
        "\n",
        "            # calculate full path cost\n",
        "            neighbor.g = current_node.g + graph.get(current_node.name, neighbor.name)\n",
        "            neighbor.h = heuristics.get(neighbor.name)\n",
        "            neighbor.f = neighbor.g + neighbor.h\n",
        "\n",
        "            # check if neighbor is in open list and if it has a lower f value\n",
        "            if(add_to_open(open, neighbor) == True):\n",
        "\n",
        "                # everything is green, add neighbor to open list\n",
        "                open.append(neighbor)\n",
        "\n",
        "    # return None, no path is found\n",
        "    return None\n",
        "\n",
        "# check if a neighbor should be added to open list\n",
        "def add_to_open(open, neighbor):\n",
        "    for node in open:\n",
        "        if (neighbor == node and neighbor.f > node.f):\n",
        "            return False\n",
        "    return True\n",
        "\n",
        "# create a graph\n",
        "graph = Graph() # user-based input for edges will be updated in the upcoming days\n",
        "# create graph connections (Actual distance)\n",
        "graph.connect('Frankfurt', 'Wurzburg', 111)\n",
        "graph.connect('Frankfurt', 'Mannheim', 85)\n",
        "graph.connect('Wurzburg', 'Nurnberg', 104)\n",
        "graph.connect('Wurzburg', 'Stuttgart', 140)\n",
        "graph.connect('Wurzburg', 'Ulm', 183)\n",
        "graph.connect('Mannheim', 'Nurnberg', 230)\n",
        "graph.connect('Mannheim', 'Karlsruhe', 67)\n",
        "graph.connect('Karlsruhe', 'Basel', 191)\n",
        "graph.connect('Karlsruhe', 'Stuttgart', 64)\n",
        "graph.connect('Nurnberg', 'Ulm', 171)\n",
        "graph.connect('Nurnberg', 'Munchen', 170)\n",
        "graph.connect('Nurnberg', 'Passau', 220)\n",
        "graph.connect('Stuttgart', 'Ulm', 107)\n",
        "graph.connect('Basel', 'Bern', 91)\n",
        "graph.connect('Basel', 'Zurich', 85)\n",
        "graph.connect('Bern', 'Zurich', 120)\n",
        "graph.connect('Zurich', 'Memmingen', 184)\n",
        "graph.connect('Memmingen', 'Ulm', 55)\n",
        "graph.connect('Memmingen', 'Munchen', 115)\n",
        "graph.connect('Munchen', 'Ulm', 123)\n",
        "graph.connect('Munchen', 'Passau', 189)\n",
        "graph.connect('Munchen', 'Rosenheim', 59)\n",
        "graph.connect('Rosenheim', 'Salzburg', 81)\n",
        "graph.connect('Passau', 'Linz', 102)\n",
        "graph.connect('Salzburg', 'Linz', 126)\n",
        "# make graph undirected, create symmetric connections\n",
        "graph.make_undirected()\n",
        "# create heuristics (straight-line distance, air-travel distance)\n",
        "heuristics = {}\n",
        "heuristics['Basel'] = 204\n",
        "heuristics['Bern'] = 247\n",
        "heuristics['Frankfurt'] = 215\n",
        "heuristics['Karlsruhe'] = 137\n",
        "heuristics['Linz'] = 318\n",
        "heuristics['Mannheim'] = 164\n",
        "heuristics['Munchen'] = 120\n",
        "heuristics['Memmingen'] = 47\n",
        "heuristics['Nurnberg'] = 132\n",
        "heuristics['Passau'] = 257\n",
        "heuristics['Rosenheim'] = 168\n",
        "heuristics['Stuttgart'] = 75\n",
        "heuristics['Salzburg'] = 236\n",
        "heuristics['Wurzburg'] = 153\n",
        "heuristics['Zurich'] = 157\n",
        "heuristics['Ulm'] = 0\n",
        "# run the search algorithm\n",
        "path = astar_search(graph, heuristics, 'Frankfurt', 'Ulm')\n",
        "print(\"Path:\", path)"
      ],
      "metadata": {
        "colab": {
          "base_uri": "https://localhost:8080/"
        },
        "id": "PLBYE1f4I-lG",
        "outputId": "ee0ef6ab-b2d3-407e-d76a-1a560cbed0c7"
      },
      "execution_count": null,
      "outputs": [
        {
          "output_type": "stream",
          "name": "stdout",
          "text": [
            "Path: ['Frankfurt: 0', 'Wurzburg: 111', 'Ulm: 294']\n"
          ]
        }
      ]
    },
    {
      "cell_type": "markdown",
      "source": [
        "EXPERMINT NO: 6 DST/FUZZY LOGIC\n"
      ],
      "metadata": {
        "id": "vM-_jaefJQL8"
      }
    },
    {
      "cell_type": "code",
      "source": [
        "A = dict()\n",
        "B = dict()\n",
        "Y = dict()\n",
        "X = dict()\n",
        "A = {\"a\":0.2, \"b\":0.3,\"c\":0.6,\"d\":0.6}\n",
        "B = {\"a\":0.9, \"b\":0.9,\"c\":0.4,\"d\":0.5}\n",
        "print(\"The first fuzzy set is:\", A)\n",
        "print(\"The second fuzzy set is:\", B)\n",
        "for A_key, B_key in zip(A,B):\n",
        "  A_value=A[A_key]\n",
        "  B_value=B[B_key]\n",
        "  if A_value==B[B_key]:\n",
        "    Y[B_key]=A_value\n",
        "  else:\n",
        "    Y[B_key]=B_value\n",
        "  print(\"Fuzzy set union is:\",Y)\n",
        "  for A_key in A:\n",
        "    X[A_key]=1-A[A_key]\n",
        "  print(\"Fuzzy set compliment is:\", X)"
      ],
      "metadata": {
        "colab": {
          "base_uri": "https://localhost:8080/"
        },
        "id": "AXBCqb0oJZg1",
        "outputId": "6bc77a0f-0ff5-4fe7-d243-28e203e62daa"
      },
      "execution_count": null,
      "outputs": [
        {
          "output_type": "stream",
          "name": "stdout",
          "text": [
            "The first fuzzy set is: {'a': 0.2, 'b': 0.3, 'c': 0.6, 'd': 0.6}\n",
            "The second fuzzy set is: {'a': 0.9, 'b': 0.9, 'c': 0.4, 'd': 0.5}\n",
            "Fuzzy set union is: {'a': 0.9}\n",
            "Fuzzy set compliment is: {'a': 0.8, 'b': 0.7, 'c': 0.4, 'd': 0.4}\n",
            "Fuzzy set union is: {'a': 0.9, 'b': 0.9}\n",
            "Fuzzy set compliment is: {'a': 0.8, 'b': 0.7, 'c': 0.4, 'd': 0.4}\n",
            "Fuzzy set union is: {'a': 0.9, 'b': 0.9, 'c': 0.4}\n",
            "Fuzzy set compliment is: {'a': 0.8, 'b': 0.7, 'c': 0.4, 'd': 0.4}\n",
            "Fuzzy set union is: {'a': 0.9, 'b': 0.9, 'c': 0.4, 'd': 0.5}\n",
            "Fuzzy set compliment is: {'a': 0.8, 'b': 0.7, 'c': 0.4, 'd': 0.4}\n"
          ]
        }
      ]
    },
    {
      "cell_type": "markdown",
      "source": [
        "EXPERIMENT NO: 7 UNIFICATION AND RESOLUTION"
      ],
      "metadata": {
        "id": "hXb3lVlYLov1"
      }
    },
    {
      "cell_type": "code",
      "source": [
        "def get_index_comma(string):\n",
        "    index_list = list()\n",
        "    par_count = 0\n",
        "\n",
        "    for i in range(len(string)):\n",
        "        if string[i] == ',' and par_count == 0:\n",
        "            index_list.append(i)\n",
        "        elif string[i] == '(':\n",
        "            par_count += 1\n",
        "        elif string[i] == ')':\n",
        "            par_count -= 1\n",
        "\n",
        "    return index_list\n",
        "\n",
        "\n",
        "def is_variable(expr):\n",
        "    for i in expr:\n",
        "        if i == '(' or i == ')':\n",
        "            return False\n",
        "\n",
        "    return True\n",
        "\n",
        "\n",
        "def process_expression(expr):\n",
        "    expr = expr.replace(' ', '')\n",
        "    index = None\n",
        "    for i in range(len(expr)):\n",
        "        if expr[i] == '(':\n",
        "            index = i\n",
        "            break\n",
        "    predicate_symbol = expr[:index]\n",
        "    expr = expr.replace(predicate_symbol, '')\n",
        "    expr = expr[1:len(expr) - 1]\n",
        "    arg_list = list()\n",
        "    indices = get_index_comma(expr)\n",
        "\n",
        "    if len(indices) == 0:\n",
        "        arg_list.append(expr)\n",
        "    else:\n",
        "        arg_list.append(expr[:indices[0]])\n",
        "        for i, j in zip(indices, indices[1:]):\n",
        "            arg_list.append(expr[i + 1:j])\n",
        "        arg_list.append(expr[indices[len(indices) - 1] + 1:])\n",
        "\n",
        "    return predicate_symbol, arg_list\n",
        "\n",
        "\n",
        "def get_arg_list(expr):\n",
        "    _, arg_list = process_expression(expr)\n",
        "\n",
        "    flag = True\n",
        "    while flag:\n",
        "        flag = False\n",
        "\n",
        "        for i in arg_list:\n",
        "            if not is_variable(i):\n",
        "                flag = True\n",
        "                _, tmp = process_expression(i)\n",
        "                for j in tmp:\n",
        "                    if j not in arg_list:\n",
        "                        arg_list.append(j)\n",
        "                arg_list.remove(i)\n",
        "\n",
        "    return arg_list\n",
        "\n",
        "\n",
        "def check_occurs(var, expr):\n",
        "    arg_list = get_arg_list(expr)\n",
        "    if var in arg_list:\n",
        "        return True\n",
        "\n",
        "    return False\n",
        "\n",
        "\n",
        "def unify(expr1, expr2):\n",
        "\n",
        "    if is_variable(expr1) and is_variable(expr2):\n",
        "        if expr1 == expr2:\n",
        "            return 'Null'\n",
        "        else:\n",
        "            return False\n",
        "    elif is_variable(expr1) and not is_variable(expr2):\n",
        "        if check_occurs(expr1, expr2):\n",
        "            return False\n",
        "        else:\n",
        "            tmp = str(expr2) + '/' + str(expr1)\n",
        "            return tmp\n",
        "    elif not is_variable(expr1) and is_variable(expr2):\n",
        "        if check_occurs(expr2, expr1):\n",
        "            return False\n",
        "        else:\n",
        "            tmp = str(expr1) + '/' + str(expr2)\n",
        "            return tmp\n",
        "    else:\n",
        "        predicate_symbol_1, arg_list_1 = process_expression(expr1)\n",
        "        predicate_symbol_2, arg_list_2 = process_expression(expr2)\n",
        "\n",
        "        # Step 2\n",
        "        if predicate_symbol_1 != predicate_symbol_2:\n",
        "            return False\n",
        "        # Step 3\n",
        "        elif len(arg_list_1) != len(arg_list_2):\n",
        "            return False\n",
        "        else:\n",
        "            # Step 4: Create substitution list\n",
        "            sub_list = list()\n",
        "\n",
        "            # Step 5:\n",
        "            for i in range(len(arg_list_1)):\n",
        "                tmp = unify(arg_list_1[i], arg_list_2[i])\n",
        "\n",
        "                if not tmp:\n",
        "                    return False\n",
        "                elif tmp == 'Null':\n",
        "                    pass\n",
        "                else:\n",
        "                    if type(tmp) == list:\n",
        "                        for j in tmp:\n",
        "                            sub_list.append(j)\n",
        "                    else:\n",
        "                        sub_list.append(tmp)\n",
        "\n",
        "            # Step 6\n",
        "            return sub_list\n",
        "\n",
        "\n",
        "if __name__ == '__main__':\n",
        "\n",
        "    f1 = 'Q(a, g(x, a), f(y))'\n",
        "    f2 = 'Q(a, g(f(b), a), x)'\n",
        "    # f1 = input('f1 : ')\n",
        "    # f2 = input('f2 : ')\n",
        "\n",
        "    result = unify(f1, f2)\n",
        "    if not result:\n",
        "        print('The process of Unification failed!')\n",
        "    else:\n",
        "        print('The process of Unification successful!')\n",
        "        print(result)"
      ],
      "metadata": {
        "colab": {
          "base_uri": "https://localhost:8080/"
        },
        "id": "gzKK1GaCLz1V",
        "outputId": "d63c980c-3f76-48d3-958c-327e1044ac1a"
      },
      "execution_count": null,
      "outputs": [
        {
          "output_type": "stream",
          "name": "stdout",
          "text": [
            "The process of Unification successful!\n",
            "['f(b)/x', 'f(y)/x']\n"
          ]
        }
      ]
    },
    {
      "cell_type": "code",
      "source": [
        "import copy\n",
        "import time\n",
        "\n",
        "\n",
        "class Parameter:\n",
        "    variable_count = 1\n",
        "\n",
        "    def __init__(self, name=None):\n",
        "        if name:\n",
        "            self.type = \"Constant\"\n",
        "            self.name = name\n",
        "        else:\n",
        "            self.type = \"Variable\"\n",
        "            self.name = \"v\" + str(Parameter.variable_count)\n",
        "            Parameter.variable_count += 1\n",
        "\n",
        "    def isConstant(self):\n",
        "        return self.type == \"Constant\"\n",
        "\n",
        "    def unify(self, type_, name):\n",
        "        self.type = type_\n",
        "        self.name = name\n",
        "\n",
        "    def __eq__(self, other):\n",
        "        return self.name == other.name\n",
        "\n",
        "    def __str__(self):\n",
        "        return self.name\n",
        "\n",
        "\n",
        "class Predicate:\n",
        "    def __init__(self, name, params):\n",
        "        self.name = name\n",
        "        self.params = params\n",
        "\n",
        "    def __eq__(self, other):\n",
        "        return self.name == other.name and all(a == b for a, b in zip(self.params, other.params))\n",
        "\n",
        "    def __str__(self):\n",
        "        return self.name + \"(\" + \",\".join(str(x) for x in self.params) + \")\"\n",
        "\n",
        "    def getNegatedPredicate(self):\n",
        "        return Predicate(negatePredicate(self.name), self.params)\n",
        "\n",
        "\n",
        "class Sentence:\n",
        "    sentence_count = 0\n",
        "\n",
        "    def __init__(self, string):\n",
        "        self.sentence_index = Sentence.sentence_count\n",
        "        Sentence.sentence_count += 1\n",
        "        self.predicates = []\n",
        "        self.variable_map = {}\n",
        "        local = {}\n",
        "\n",
        "        for predicate in string.split(\"|\"):\n",
        "            name = predicate[:predicate.find(\"(\")]\n",
        "            params = []\n",
        "\n",
        "            for param in predicate[predicate.find(\"(\") + 1: predicate.find(\")\")].split(\",\"):\n",
        "                if param[0].islower():\n",
        "                    if param not in local:  # Variable\n",
        "                        local[param] = Parameter()\n",
        "                        self.variable_map[local[param].name] = local[param]\n",
        "                    new_param = local[param]\n",
        "                else:\n",
        "                    new_param = Parameter(param)\n",
        "                    self.variable_map[param] = new_param\n",
        "\n",
        "                params.append(new_param)\n",
        "\n",
        "            self.predicates.append(Predicate(name, params))\n",
        "\n",
        "    def getPredicates(self):\n",
        "        return [predicate.name for predicate in self.predicates]\n",
        "\n",
        "    def findPredicates(self, name):\n",
        "        return [predicate for predicate in self.predicates if predicate.name == name]\n",
        "\n",
        "    def removePredicate(self, predicate):\n",
        "        self.predicates.remove(predicate)\n",
        "        for key, val in self.variable_map.items():\n",
        "            if not val:\n",
        "                self.variable_map.pop(key)\n",
        "\n",
        "    def containsVariable(self):\n",
        "        return any(not param.isConstant() for param in self.variable_map.values())\n",
        "\n",
        "    def __eq__(self, other):\n",
        "        if len(self.predicates) == 1 and self.predicates[0] == other:\n",
        "            return True\n",
        "        return False\n",
        "\n",
        "    def __str__(self):\n",
        "        return \"\".join([str(predicate) for predicate in self.predicates])\n",
        "\n",
        "\n",
        "class KB:\n",
        "    def __init__(self, inputSentences):\n",
        "        self.inputSentences = [x.replace(\" \", \"\") for x in inputSentences]\n",
        "        self.sentences = []\n",
        "        self.sentence_map = {}\n",
        "\n",
        "    def prepareKB(self):\n",
        "        self.convertSentencesToCNF()\n",
        "        for sentence_string in self.inputSentences:\n",
        "            sentence = Sentence(sentence_string)\n",
        "            for predicate in sentence.getPredicates():\n",
        "                self.sentence_map[predicate] = self.sentence_map.get(\n",
        "                    predicate, []) + [sentence]\n",
        "\n",
        "    def convertSentencesToCNF(self):\n",
        "        for sentenceIdx in range(len(self.inputSentences)):\n",
        "            # Do negation of the Premise and add them as literal\n",
        "            if \"=>\" in self.inputSentences[sentenceIdx]:\n",
        "                self.inputSentences[sentenceIdx] = negateAntecedent(\n",
        "                    self.inputSentences[sentenceIdx])\n",
        "\n",
        "    def askQueries(self, queryList):\n",
        "        results = []\n",
        "\n",
        "        for query in queryList:\n",
        "            negatedQuery = Sentence(negatePredicate(query.replace(\" \", \"\")))\n",
        "            negatedPredicate = negatedQuery.predicates[0]\n",
        "            prev_sentence_map = copy.deepcopy(self.sentence_map)\n",
        "            self.sentence_map[negatedPredicate.name] = self.sentence_map.get(\n",
        "                negatedPredicate.name, []) + [negatedQuery]\n",
        "            self.timeLimit = time.time() + 40\n",
        "\n",
        "            try:\n",
        "                result = self.resolve([negatedPredicate], [\n",
        "                                      False]*(len(self.inputSentences) + 1))\n",
        "            except:\n",
        "                result = False\n",
        "\n",
        "            self.sentence_map = prev_sentence_map\n",
        "\n",
        "            if result:\n",
        "                results.append(\"TRUE\")\n",
        "            else:\n",
        "                results.append(\"FALSE\")\n",
        "\n",
        "        return results\n",
        "\n",
        "    def resolve(self, queryStack, visited, depth=0):\n",
        "        if time.time() > self.timeLimit:\n",
        "            raise Exception\n",
        "        if queryStack:\n",
        "            query = queryStack.pop(-1)\n",
        "            negatedQuery = query.getNegatedPredicate()\n",
        "            queryPredicateName = negatedQuery.name\n",
        "            if queryPredicateName not in self.sentence_map:\n",
        "                return False\n",
        "            else:\n",
        "                queryPredicate = negatedQuery\n",
        "                for kb_sentence in self.sentence_map[queryPredicateName]:\n",
        "                    if not visited[kb_sentence.sentence_index]:\n",
        "                        for kbPredicate in kb_sentence.findPredicates(queryPredicateName):\n",
        "\n",
        "                            canUnify, substitution = performUnification(\n",
        "                                copy.deepcopy(queryPredicate), copy.deepcopy(kbPredicate))\n",
        "\n",
        "                            if canUnify:\n",
        "                                newSentence = copy.deepcopy(kb_sentence)\n",
        "                                newSentence.removePredicate(kbPredicate)\n",
        "                                newQueryStack = copy.deepcopy(queryStack)\n",
        "\n",
        "                                if substitution:\n",
        "                                    for old, new in substitution.items():\n",
        "                                        if old in newSentence.variable_map:\n",
        "                                            parameter = newSentence.variable_map[old]\n",
        "                                            newSentence.variable_map.pop(old)\n",
        "                                            parameter.unify(\n",
        "                                                \"Variable\" if new[0].islower() else \"Constant\", new)\n",
        "                                            newSentence.variable_map[new] = parameter\n",
        "\n",
        "                                    for predicate in newQueryStack:\n",
        "                                        for index, param in enumerate(predicate.params):\n",
        "                                            if param.name in substitution:\n",
        "                                                new = substitution[param.name]\n",
        "                                                predicate.params[index].unify(\n",
        "                                                    \"Variable\" if new[0].islower() else \"Constant\", new)\n",
        "\n",
        "                                for predicate in newSentence.predicates:\n",
        "                                    newQueryStack.append(predicate)\n",
        "\n",
        "                                new_visited = copy.deepcopy(visited)\n",
        "                                if kb_sentence.containsVariable() and len(kb_sentence.predicates) > 1:\n",
        "                                    new_visited[kb_sentence.sentence_index] = True\n",
        "\n",
        "                                if self.resolve(newQueryStack, new_visited, depth + 1):\n",
        "                                    return True\n",
        "                return False\n",
        "        return True\n",
        "\n",
        "\n",
        "def performUnification(queryPredicate, kbPredicate):\n",
        "    substitution = {}\n",
        "    if queryPredicate == kbPredicate:\n",
        "        return True, {}\n",
        "    else:\n",
        "        for query, kb in zip(queryPredicate.params, kbPredicate.params):\n",
        "            if query == kb:\n",
        "                continue\n",
        "            if kb.isConstant():\n",
        "                if not query.isConstant():\n",
        "                    if query.name not in substitution:\n",
        "                        substitution[query.name] = kb.name\n",
        "                    elif substitution[query.name] != kb.name:\n",
        "                        return False, {}\n",
        "                    query.unify(\"Constant\", kb.name)\n",
        "                else:\n",
        "                    return False, {}\n",
        "            else:\n",
        "                if not query.isConstant():\n",
        "                    if kb.name not in substitution:\n",
        "                        substitution[kb.name] = query.name\n",
        "                    elif substitution[kb.name] != query.name:\n",
        "                        return False, {}\n",
        "                    kb.unify(\"Variable\", query.name)\n",
        "                else:\n",
        "                    if kb.name not in substitution:\n",
        "                        substitution[kb.name] = query.name\n",
        "                    elif substitution[kb.name] != query.name:\n",
        "                        return False, {}\n",
        "    return True, substitution\n",
        "\n",
        "\n",
        "def negatePredicate(predicate):\n",
        "    return predicate[1:] if predicate[0] == \"~\" else \"~\" + predicate\n",
        "\n",
        "\n",
        "def negateAntecedent(sentence):\n",
        "    antecedent = sentence[:sentence.find(\"=>\")]\n",
        "    premise = []\n",
        "\n",
        "    for predicate in antecedent.split(\"&\"):\n",
        "        premise.append(negatePredicate(predicate))\n",
        "\n",
        "    premise.append(sentence[sentence.find(\"=>\") + 2:])\n",
        "    return \"|\".join(premise)\n",
        "\n",
        "\n",
        "def getInput(filename):\n",
        "    with open(filename, \"r\") as file:\n",
        "        noOfQueries = int(file.readline().strip())\n",
        "        inputQueries = [file.readline().strip() for _ in range(noOfQueries)]\n",
        "        noOfSentences = int(file.readline().strip())\n",
        "        inputSentences = [file.readline().strip()\n",
        "                          for _ in range(noOfSentences)]\n",
        "        return inputQueries, inputSentences\n",
        "\n",
        "\n",
        "def printOutput(filename, results):\n",
        "    print(results)\n",
        "    with open(filename, \"w\") as file:\n",
        "        for line in results:\n",
        "            file.write(line)\n",
        "            file.write(\"\\n\")\n",
        "    file.close()\n",
        "\n",
        "\n",
        "if __name__ == '__main__':\n",
        "    inputQueries_, inputSentences_ = getInput('C:/shushrut/studies/SRM University/SEM 6/AI/7-Unification Resolutiion/Resolution/Input/input_1.txt')\n",
        "    knowledgeBase = KB(inputSentences_)\n",
        "    knowledgeBase.prepareKB()\n",
        "    results_ = knowledgeBase.askQueries(inputQueries_)\n",
        "    printOutput(\"output.txt\", results_)"
      ],
      "metadata": {
        "colab": {
          "base_uri": "https://localhost:8080/",
          "height": 356
        },
        "id": "9qaUBgXCMMH3",
        "outputId": "00d98113-fdf2-4e64-c6aa-e11a004b39b9"
      },
      "execution_count": null,
      "outputs": [
        {
          "output_type": "error",
          "ename": "FileNotFoundError",
          "evalue": "ignored",
          "traceback": [
            "\u001b[0;31m---------------------------------------------------------------------------\u001b[0m",
            "\u001b[0;31mFileNotFoundError\u001b[0m                         Traceback (most recent call last)",
            "\u001b[0;32m<ipython-input-19-e9c04da724b8>\u001b[0m in \u001b[0;36m<cell line: 263>\u001b[0;34m()\u001b[0m\n\u001b[1;32m    262\u001b[0m \u001b[0;34m\u001b[0m\u001b[0m\n\u001b[1;32m    263\u001b[0m \u001b[0;32mif\u001b[0m \u001b[0m__name__\u001b[0m \u001b[0;34m==\u001b[0m \u001b[0;34m'__main__'\u001b[0m\u001b[0;34m:\u001b[0m\u001b[0;34m\u001b[0m\u001b[0;34m\u001b[0m\u001b[0m\n\u001b[0;32m--> 264\u001b[0;31m     \u001b[0minputQueries_\u001b[0m\u001b[0;34m,\u001b[0m \u001b[0minputSentences_\u001b[0m \u001b[0;34m=\u001b[0m \u001b[0mgetInput\u001b[0m\u001b[0;34m(\u001b[0m\u001b[0;34m'C:/shushrut/studies/SRM University/SEM 6/AI/7-Unification Resolutiion/Resolution/Input/input_1.txt'\u001b[0m\u001b[0;34m)\u001b[0m\u001b[0;34m\u001b[0m\u001b[0;34m\u001b[0m\u001b[0m\n\u001b[0m\u001b[1;32m    265\u001b[0m     \u001b[0mknowledgeBase\u001b[0m \u001b[0;34m=\u001b[0m \u001b[0mKB\u001b[0m\u001b[0;34m(\u001b[0m\u001b[0minputSentences_\u001b[0m\u001b[0;34m)\u001b[0m\u001b[0;34m\u001b[0m\u001b[0;34m\u001b[0m\u001b[0m\n\u001b[1;32m    266\u001b[0m     \u001b[0mknowledgeBase\u001b[0m\u001b[0;34m.\u001b[0m\u001b[0mprepareKB\u001b[0m\u001b[0;34m(\u001b[0m\u001b[0;34m)\u001b[0m\u001b[0;34m\u001b[0m\u001b[0;34m\u001b[0m\u001b[0m\n",
            "\u001b[0;32m<ipython-input-19-e9c04da724b8>\u001b[0m in \u001b[0;36mgetInput\u001b[0;34m(filename)\u001b[0m\n\u001b[1;32m    243\u001b[0m \u001b[0;34m\u001b[0m\u001b[0m\n\u001b[1;32m    244\u001b[0m \u001b[0;32mdef\u001b[0m \u001b[0mgetInput\u001b[0m\u001b[0;34m(\u001b[0m\u001b[0mfilename\u001b[0m\u001b[0;34m)\u001b[0m\u001b[0;34m:\u001b[0m\u001b[0;34m\u001b[0m\u001b[0;34m\u001b[0m\u001b[0m\n\u001b[0;32m--> 245\u001b[0;31m     \u001b[0;32mwith\u001b[0m \u001b[0mopen\u001b[0m\u001b[0;34m(\u001b[0m\u001b[0mfilename\u001b[0m\u001b[0;34m,\u001b[0m \u001b[0;34m\"r\"\u001b[0m\u001b[0;34m)\u001b[0m \u001b[0;32mas\u001b[0m \u001b[0mfile\u001b[0m\u001b[0;34m:\u001b[0m\u001b[0;34m\u001b[0m\u001b[0;34m\u001b[0m\u001b[0m\n\u001b[0m\u001b[1;32m    246\u001b[0m         \u001b[0mnoOfQueries\u001b[0m \u001b[0;34m=\u001b[0m \u001b[0mint\u001b[0m\u001b[0;34m(\u001b[0m\u001b[0mfile\u001b[0m\u001b[0;34m.\u001b[0m\u001b[0mreadline\u001b[0m\u001b[0;34m(\u001b[0m\u001b[0;34m)\u001b[0m\u001b[0;34m.\u001b[0m\u001b[0mstrip\u001b[0m\u001b[0;34m(\u001b[0m\u001b[0;34m)\u001b[0m\u001b[0;34m)\u001b[0m\u001b[0;34m\u001b[0m\u001b[0;34m\u001b[0m\u001b[0m\n\u001b[1;32m    247\u001b[0m         \u001b[0minputQueries\u001b[0m \u001b[0;34m=\u001b[0m \u001b[0;34m[\u001b[0m\u001b[0mfile\u001b[0m\u001b[0;34m.\u001b[0m\u001b[0mreadline\u001b[0m\u001b[0;34m(\u001b[0m\u001b[0;34m)\u001b[0m\u001b[0;34m.\u001b[0m\u001b[0mstrip\u001b[0m\u001b[0;34m(\u001b[0m\u001b[0;34m)\u001b[0m \u001b[0;32mfor\u001b[0m \u001b[0m_\u001b[0m \u001b[0;32min\u001b[0m \u001b[0mrange\u001b[0m\u001b[0;34m(\u001b[0m\u001b[0mnoOfQueries\u001b[0m\u001b[0;34m)\u001b[0m\u001b[0;34m]\u001b[0m\u001b[0;34m\u001b[0m\u001b[0;34m\u001b[0m\u001b[0m\n",
            "\u001b[0;31mFileNotFoundError\u001b[0m: [Errno 2] No such file or directory: 'C:/shushrut/studies/SRM University/SEM 6/AI/7-Unification Resolutiion/Resolution/Input/input_1.txt'"
          ]
        }
      ]
    },
    {
      "cell_type": "markdown",
      "source": [
        "EXPERIMENT NO:08 LR, SVM, NAIVE BAYES"
      ],
      "metadata": {
        "id": "B9aEC7HsMTJG"
      }
    },
    {
      "cell_type": "code",
      "source": [
        "from sklearn.linear_model import LogisticRegression\n",
        "lr=LogisticRegression()\n",
        "lr.fit(X_train, Y_train)\n",
        "Y_pred_lr=lr.predict(X_test)\n",
        "ln[45]\n",
        "Y_pred_lr.shape\n",
        "print(\"The logistic regression is:\"+str(source_ln)+\"%\")"
      ],
      "metadata": {
        "colab": {
          "base_uri": "https://localhost:8080/",
          "height": 235
        },
        "id": "Y9b8dVdBNAHm",
        "outputId": "4a20cf44-68d4-4cf1-f763-044e824b3bb2"
      },
      "execution_count": null,
      "outputs": [
        {
          "output_type": "error",
          "ename": "NameError",
          "evalue": "ignored",
          "traceback": [
            "\u001b[0;31m---------------------------------------------------------------------------\u001b[0m",
            "\u001b[0;31mNameError\u001b[0m                                 Traceback (most recent call last)",
            "\u001b[0;32m<ipython-input-21-3d394007ae06>\u001b[0m in \u001b[0;36m<cell line: 3>\u001b[0;34m()\u001b[0m\n\u001b[1;32m      1\u001b[0m \u001b[0;32mfrom\u001b[0m \u001b[0msklearn\u001b[0m\u001b[0;34m.\u001b[0m\u001b[0mlinear_model\u001b[0m \u001b[0;32mimport\u001b[0m \u001b[0mLogisticRegression\u001b[0m\u001b[0;34m\u001b[0m\u001b[0;34m\u001b[0m\u001b[0m\n\u001b[1;32m      2\u001b[0m \u001b[0mlr\u001b[0m\u001b[0;34m=\u001b[0m\u001b[0mLogisticRegression\u001b[0m\u001b[0;34m(\u001b[0m\u001b[0;34m)\u001b[0m\u001b[0;34m\u001b[0m\u001b[0;34m\u001b[0m\u001b[0m\n\u001b[0;32m----> 3\u001b[0;31m \u001b[0mlr\u001b[0m\u001b[0;34m.\u001b[0m\u001b[0mfit\u001b[0m\u001b[0;34m(\u001b[0m\u001b[0mX_train\u001b[0m\u001b[0;34m,\u001b[0m \u001b[0mY_train\u001b[0m\u001b[0;34m)\u001b[0m\u001b[0;34m\u001b[0m\u001b[0;34m\u001b[0m\u001b[0m\n\u001b[0m\u001b[1;32m      4\u001b[0m \u001b[0mY_pred_lr\u001b[0m\u001b[0;34m=\u001b[0m\u001b[0mlr\u001b[0m\u001b[0;34m.\u001b[0m\u001b[0mpredict\u001b[0m\u001b[0;34m(\u001b[0m\u001b[0mX_test\u001b[0m\u001b[0;34m)\u001b[0m\u001b[0;34m\u001b[0m\u001b[0;34m\u001b[0m\u001b[0m\n\u001b[1;32m      5\u001b[0m \u001b[0mln\u001b[0m\u001b[0;34m[\u001b[0m\u001b[0;36m45\u001b[0m\u001b[0;34m]\u001b[0m\u001b[0;34m\u001b[0m\u001b[0;34m\u001b[0m\u001b[0m\n",
            "\u001b[0;31mNameError\u001b[0m: name 'X_train' is not defined"
          ]
        }
      ]
    },
    {
      "cell_type": "code",
      "source": [],
      "metadata": {
        "id": "xVmlLGOUOT1W"
      },
      "execution_count": null,
      "outputs": []
    },
    {
      "cell_type": "code",
      "source": [],
      "metadata": {
        "id": "oKPY0b4QOVkk"
      },
      "execution_count": null,
      "outputs": []
    },
    {
      "cell_type": "markdown",
      "source": [
        "EXPERIMENT NO: 9 NLP"
      ],
      "metadata": {
        "id": "307L8fl2OUuj"
      }
    },
    {
      "cell_type": "code",
      "source": [
        "import nltk\n",
        "nltk.download('vader_lexicon')\n",
        "\n",
        "from nltk.sentiment.vader import SentimentIntensityAnalyzer\n",
        "\n",
        "# Initialize the sentiment analyzer\n",
        "sia = SentimentIntensityAnalyzer()\n",
        "\n",
        "# Sample text for analysis\n",
        "text = \"I really enjoyed this movie. The acting was great and the plot was engaging.\"\n",
        "\n",
        "# Calculate the sentiment score for the text\n",
        "score = sia.polarity_scores(text)\n",
        "\n",
        "# Print the sentiment score\n",
        "print(\"negative = \", score[\"neg\"])\n",
        "print(\"neutral = \", score[\"neu\"])\n",
        "print(\"positive = \", score[\"pos\"])\n",
        "print(\"compound = \", score[\"compound\"])\n"
      ],
      "metadata": {
        "colab": {
          "base_uri": "https://localhost:8080/"
        },
        "id": "nHQ5pBEMOaR_",
        "outputId": "dfed1b1d-51dc-4387-f8bb-8821283431be"
      },
      "execution_count": null,
      "outputs": [
        {
          "output_type": "stream",
          "name": "stdout",
          "text": [
            "negative =  0.0\n",
            "neutral =  0.498\n",
            "positive =  0.502\n",
            "compound =  0.8777\n"
          ]
        },
        {
          "output_type": "stream",
          "name": "stderr",
          "text": [
            "[nltk_data] Downloading package vader_lexicon to /root/nltk_data...\n"
          ]
        }
      ]
    },
    {
      "cell_type": "code",
      "source": [
        "EXPERIMENT NO: 10 DEEP LEARNING"
      ],
      "metadata": {
        "id": "BDyD9rsuOdue"
      },
      "execution_count": null,
      "outputs": []
    },
    {
      "cell_type": "code",
      "source": [
        "import tensorflow as tf\n",
        "from tensorflow import keras\n",
        "\n",
        "# Load the CIFAR-10 dataset\n",
        "(x_train, y_train), (x_test, y_test) = keras.datasets.cifar10.load_data()\n",
        "\n",
        "# Normalize pixel values between 0 and 1\n",
        "x_train = x_train.astype('float32') / 255\n",
        "x_test = x_test.astype('float32') / 255\n",
        "\n",
        "# Define the CNN architecture\n",
        "model = keras.Sequential([\n",
        "    keras.layers.Conv2D(32, (3, 3), padding='same',\n",
        "                        activation='relu', input_shape=x_train.shape[1:]),\n",
        "    keras.layers.MaxPooling2D((2, 2)),\n",
        "    keras.layers.Conv2D(64, (3, 3), padding='same', activation='relu'),\n",
        "    keras.layers.MaxPooling2D((2, 2)),\n",
        "    keras.layers.Flatten(),\n",
        "    keras.layers.Dense(64, activation='relu'),\n",
        "    keras.layers.Dense(10)\n",
        "])\n",
        "\n",
        "# Compile the model\n",
        "model.compile(optimizer='adam',\n",
        "              loss=tf.keras.losses.SparseCategoricalCrossentropy(\n",
        "                  from_logits=True),\n",
        "              metrics=['accuracy'])\n",
        "\n",
        "# Train the model on the training data\n",
        "model.fit(x_train, y_train, epochs=10, validation_data=(x_test, y_test))\n",
        "\n",
        "# Evaluate the model on the test data\n",
        "test_loss, test_acc = model.evaluate(x_test, y_test)\n",
        "print(f'Test accuracy: {test_acc}')"
      ],
      "metadata": {
        "colab": {
          "base_uri": "https://localhost:8080/"
        },
        "id": "G79PBsdmOhyq",
        "outputId": "806fcbcd-cfef-4a3b-ac19-9105a67332f1"
      },
      "execution_count": null,
      "outputs": [
        {
          "output_type": "stream",
          "name": "stdout",
          "text": [
            "Downloading data from https://www.cs.toronto.edu/~kriz/cifar-10-python.tar.gz\n",
            "170498071/170498071 [==============================] - 2s 0us/step\n",
            "Epoch 1/10\n",
            "1563/1563 [==============================] - 60s 38ms/step - loss: 1.4208 - accuracy: 0.4904 - val_loss: 1.1321 - val_accuracy: 0.6046\n",
            "Epoch 2/10\n",
            "1563/1563 [==============================] - 57s 36ms/step - loss: 1.0459 - accuracy: 0.6352 - val_loss: 1.0292 - val_accuracy: 0.6410\n",
            "Epoch 3/10\n",
            "1563/1563 [==============================] - 56s 36ms/step - loss: 0.9160 - accuracy: 0.6801 - val_loss: 0.9487 - val_accuracy: 0.6715\n",
            "Epoch 4/10\n",
            "1563/1563 [==============================] - 57s 36ms/step - loss: 0.8348 - accuracy: 0.7105 - val_loss: 0.9007 - val_accuracy: 0.6889\n",
            "Epoch 5/10\n",
            "1563/1563 [==============================] - 56s 36ms/step - loss: 0.7599 - accuracy: 0.7357 - val_loss: 0.9887 - val_accuracy: 0.6691\n",
            "Epoch 6/10\n",
            "1563/1563 [==============================] - 55s 35ms/step - loss: 0.7031 - accuracy: 0.7553 - val_loss: 0.8934 - val_accuracy: 0.6962\n",
            "Epoch 7/10\n",
            "1563/1563 [==============================] - 55s 35ms/step - loss: 0.6427 - accuracy: 0.7768 - val_loss: 0.9008 - val_accuracy: 0.6989\n",
            "Epoch 8/10\n",
            "1563/1563 [==============================] - 55s 35ms/step - loss: 0.5986 - accuracy: 0.7904 - val_loss: 0.8797 - val_accuracy: 0.7071\n",
            "Epoch 9/10\n",
            "1563/1563 [==============================] - 55s 35ms/step - loss: 0.5583 - accuracy: 0.8036 - val_loss: 0.8983 - val_accuracy: 0.7103\n",
            "Epoch 10/10\n",
            "1563/1563 [==============================] - 55s 35ms/step - loss: 0.5155 - accuracy: 0.8189 - val_loss: 0.9158 - val_accuracy: 0.7096\n",
            "313/313 [==============================] - 3s 10ms/step - loss: 0.9158 - accuracy: 0.7096\n",
            "Test accuracy: 0.7095999717712402\n"
          ]
        }
      ]
    }
  ]
}